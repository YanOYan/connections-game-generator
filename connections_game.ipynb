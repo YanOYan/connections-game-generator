{
 "cells": [
  {
   "cell_type": "code",
   "execution_count": 1,
   "metadata": {},
   "outputs": [
    {
     "name": "stdout",
     "output_type": "stream",
     "text": [
      "Defaulting to user installation because normal site-packages is not writeable\n",
      "Requirement already satisfied: openai in /Users/yanyan/Library/Python/3.9/lib/python/site-packages (1.7.2)\n",
      "Requirement already satisfied: pandas in /Users/yanyan/Library/Python/3.9/lib/python/site-packages (2.1.1)\n",
      "Requirement already satisfied: instructor in /Users/yanyan/Library/Python/3.9/lib/python/site-packages (0.4.7)\n",
      "Requirement already satisfied: anyio<5,>=3.5.0 in /Users/yanyan/Library/Python/3.9/lib/python/site-packages (from openai) (4.2.0)\n",
      "Requirement already satisfied: distro<2,>=1.7.0 in /Users/yanyan/Library/Python/3.9/lib/python/site-packages (from openai) (1.9.0)\n",
      "Requirement already satisfied: httpx<1,>=0.23.0 in /Users/yanyan/Library/Python/3.9/lib/python/site-packages (from openai) (0.26.0)\n",
      "Requirement already satisfied: pydantic<3,>=1.9.0 in /Users/yanyan/Library/Python/3.9/lib/python/site-packages (from openai) (2.5.3)\n",
      "Requirement already satisfied: sniffio in /Users/yanyan/Library/Python/3.9/lib/python/site-packages (from openai) (1.3.0)\n",
      "Requirement already satisfied: tqdm>4 in /Users/yanyan/Library/Python/3.9/lib/python/site-packages (from openai) (4.66.1)\n",
      "Requirement already satisfied: typing-extensions<5,>=4.7 in /Users/yanyan/Library/Python/3.9/lib/python/site-packages (from openai) (4.8.0)\n",
      "Requirement already satisfied: numpy>=1.22.4 in /Users/yanyan/Library/Python/3.9/lib/python/site-packages (from pandas) (1.26.1)\n",
      "Requirement already satisfied: python-dateutil>=2.8.2 in /Users/yanyan/Library/Python/3.9/lib/python/site-packages (from pandas) (2.8.2)\n",
      "Requirement already satisfied: pytz>=2020.1 in /Users/yanyan/Library/Python/3.9/lib/python/site-packages (from pandas) (2023.3.post1)\n",
      "Requirement already satisfied: tzdata>=2022.1 in /Users/yanyan/Library/Python/3.9/lib/python/site-packages (from pandas) (2023.3)\n",
      "Requirement already satisfied: aiohttp<4.0.0,>=3.9.1 in /Users/yanyan/Library/Python/3.9/lib/python/site-packages (from instructor) (3.9.1)\n",
      "Requirement already satisfied: docstring-parser<0.16,>=0.15 in /Users/yanyan/Library/Python/3.9/lib/python/site-packages (from instructor) (0.15)\n",
      "Requirement already satisfied: rich<14.0.0,>=13.7.0 in /Users/yanyan/Library/Python/3.9/lib/python/site-packages (from instructor) (13.7.0)\n",
      "Requirement already satisfied: typer<0.10.0,>=0.9.0 in /Users/yanyan/Library/Python/3.9/lib/python/site-packages (from instructor) (0.9.0)\n",
      "Requirement already satisfied: attrs>=17.3.0 in /Users/yanyan/Library/Python/3.9/lib/python/site-packages (from aiohttp<4.0.0,>=3.9.1->instructor) (23.2.0)\n",
      "Requirement already satisfied: multidict<7.0,>=4.5 in /Users/yanyan/Library/Python/3.9/lib/python/site-packages (from aiohttp<4.0.0,>=3.9.1->instructor) (6.0.4)\n",
      "Requirement already satisfied: yarl<2.0,>=1.0 in /Users/yanyan/Library/Python/3.9/lib/python/site-packages (from aiohttp<4.0.0,>=3.9.1->instructor) (1.9.4)\n",
      "Requirement already satisfied: frozenlist>=1.1.1 in /Users/yanyan/Library/Python/3.9/lib/python/site-packages (from aiohttp<4.0.0,>=3.9.1->instructor) (1.4.1)\n",
      "Requirement already satisfied: aiosignal>=1.1.2 in /Users/yanyan/Library/Python/3.9/lib/python/site-packages (from aiohttp<4.0.0,>=3.9.1->instructor) (1.3.1)\n",
      "Requirement already satisfied: async-timeout<5.0,>=4.0 in /Users/yanyan/Library/Python/3.9/lib/python/site-packages (from aiohttp<4.0.0,>=3.9.1->instructor) (4.0.3)\n",
      "Requirement already satisfied: idna>=2.8 in /Users/yanyan/Library/Python/3.9/lib/python/site-packages (from anyio<5,>=3.5.0->openai) (3.6)\n",
      "Requirement already satisfied: exceptiongroup>=1.0.2 in /Users/yanyan/Library/Python/3.9/lib/python/site-packages (from anyio<5,>=3.5.0->openai) (1.1.3)\n",
      "Requirement already satisfied: certifi in /Users/yanyan/Library/Python/3.9/lib/python/site-packages (from httpx<1,>=0.23.0->openai) (2023.11.17)\n",
      "Requirement already satisfied: httpcore==1.* in /Users/yanyan/Library/Python/3.9/lib/python/site-packages (from httpx<1,>=0.23.0->openai) (1.0.2)\n",
      "Requirement already satisfied: h11<0.15,>=0.13 in /Users/yanyan/Library/Python/3.9/lib/python/site-packages (from httpcore==1.*->httpx<1,>=0.23.0->openai) (0.14.0)\n",
      "Requirement already satisfied: annotated-types>=0.4.0 in /Users/yanyan/Library/Python/3.9/lib/python/site-packages (from pydantic<3,>=1.9.0->openai) (0.6.0)\n",
      "Requirement already satisfied: pydantic-core==2.14.6 in /Users/yanyan/Library/Python/3.9/lib/python/site-packages (from pydantic<3,>=1.9.0->openai) (2.14.6)\n",
      "Requirement already satisfied: six>=1.5 in /Library/Developer/CommandLineTools/Library/Frameworks/Python3.framework/Versions/3.9/lib/python3.9/site-packages (from python-dateutil>=2.8.2->pandas) (1.15.0)\n",
      "Requirement already satisfied: markdown-it-py>=2.2.0 in /Users/yanyan/Library/Python/3.9/lib/python/site-packages (from rich<14.0.0,>=13.7.0->instructor) (3.0.0)\n",
      "Requirement already satisfied: pygments<3.0.0,>=2.13.0 in /Users/yanyan/Library/Python/3.9/lib/python/site-packages (from rich<14.0.0,>=13.7.0->instructor) (2.16.1)\n",
      "Requirement already satisfied: click<9.0.0,>=7.1.1 in /Users/yanyan/Library/Python/3.9/lib/python/site-packages (from typer<0.10.0,>=0.9.0->instructor) (8.1.7)\n",
      "Requirement already satisfied: mdurl~=0.1 in /Users/yanyan/Library/Python/3.9/lib/python/site-packages (from markdown-it-py>=2.2.0->rich<14.0.0,>=13.7.0->instructor) (0.1.2)\n"
     ]
    }
   ],
   "source": [
    "! pip install openai pandas instructor"
   ]
  },
  {
   "cell_type": "code",
   "execution_count": 2,
   "metadata": {},
   "outputs": [
    {
     "data": {
      "text/html": [
       "<style>div.output_scroll { height: 300px; }</style>"
      ],
      "text/plain": [
       "<IPython.core.display.HTML object>"
      ]
     },
     "metadata": {},
     "output_type": "display_data"
    },
    {
     "data": {
      "text/plain": [
       "<openai.OpenAI at 0x103591670>"
      ]
     },
     "execution_count": 2,
     "metadata": {},
     "output_type": "execute_result"
    }
   ],
   "source": [
    "import os\n",
    "import openai\n",
    "import instructor\n",
    "from pydantic import BaseModel, Field\n",
    "from typing import List\n",
    "from openai import OpenAI\n",
    "\n",
    "from IPython.core.interactiveshell import InteractiveShell\n",
    "InteractiveShell.ast_node_interactivity = \"all\"\n",
    "from IPython.display import HTML, display\n",
    "display(HTML(\"<style>div.output_scroll { height: 300px; }</style>\"))\n",
    "\n",
    "\n",
    "client = OpenAI(api_key=os.environ[\"OPENAI_API_KEY\"])\n",
    "\n",
    "instructor.patch(client)\n"
   ]
  },
  {
   "cell_type": "code",
   "execution_count": 3,
   "metadata": {},
   "outputs": [],
   "source": [
    "from pydantic import BaseModel, Field, field_validator\n",
    "\n",
    "class ConnectionGameGroup(BaseModel):\n",
    "    name: str = Field(default=\"theme_name\", description=\"the common theme name that connects the 4 words\")\n",
    "    group: List[str] = Field(default=[\"word1\", \"word2\", \"word3\", \"word4\"],\n",
    "                             description=\"A group of words with a common thread\")\n",
    "    @field_validator(\"group\")\n",
    "    def validate_group_length(cls, group):\n",
    "        if len(group) != 4:\n",
    "            raise ValueError(\"The group should contain exactly 4 words\")\n",
    "        return group\n",
    "\n",
    "class ConnectionGame(BaseModel):\n",
    "    easy: ConnectionGameGroup = Field(\n",
    "        ...,\n",
    "        alias=\"Group 1 (Easy)\")\n",
    "    medium: ConnectionGameGroup = Field(\n",
    "        ...,\n",
    "        alias=\"Group 2 (Medium)\")\n",
    "    hard: ConnectionGameGroup = Field(\n",
    "        ...,\n",
    "        alias=\"Group 3 (Hard)\")\n",
    "    very_hard: ConnectionGameGroup = Field(\n",
    "        ...,\n",
    "        alias=\"Group 4 (Very Hard)\")"
   ]
  },
  {
   "cell_type": "code",
   "execution_count": 4,
   "metadata": {},
   "outputs": [],
   "source": [
    "\n",
    "messages = [\n",
    "    {\"role\": \"system\", \"content\":\n",
    "        \"\"\"You are a connection game generator. You can create a game with 16 words. You will structure your response with four groups, each containing four words. Label each group and ensure the words in each group are connected by a common thread. Each group can contain different types of words, i.e., a combination of nouns, verbs, and adjectives. Try use narrow and uncommon themes as the group names, and try to avoid using themes that are too board and common, such as 'animal', 'fruit', 'color'. Rank the groups from 'Easy' to 'Very Hard' based on how common the group name (theme) is.\n",
    "        Here is one example:\n",
    "        Group 1 (Easy): name='Primates', group=['baboon', 'bonobo', 'giboon', 'gorilla']\n",
    "        Group 2 (Medium): name='religious figures' group=['cardinal', 'lama', 'monk', 'paster']\n",
    "        Group 3 (Hard): name='chutney varieties', group=['mango', 'mint', 'tamarind', 'tomato']\n",
    "        Group 4 (Very Hard): name='imitate', group=['ape', 'mime', 'mirror', parrot']\n",
    "        \"\"\"},\n",
    "    {\"role\": \"user\", \"content\": \"create a connection game for me\"}\n",
    "]\n"
   ]
  },
  {
   "cell_type": "code",
   "execution_count": 5,
   "metadata": {},
   "outputs": [
    {
     "name": "stdout",
     "output_type": "stream",
     "text": [
      "Connections game: 1\n",
      "name='Famous Bridges' group=['Golden Gate', 'Brooklyn', 'Tower', 'Sydney Harbour']\n",
      "name='Rare Gemstones' group=['Kashmir Sapphire', 'Musgravite', 'Serendibite', 'Grandidierite']\n",
      "name='Ancient Civilizations' group=['Maya', 'Inca', 'Aztec', 'Mesopotamia']\n",
      "name='Quantum Physics Concepts' group=['Entanglement', 'Superposition', 'Wave-particle duality', 'Quantum teleportation']\n",
      "\n",
      "Connections game: 2\n",
      "name='US Presidents' group=['Washington', 'Lincoln', 'Kennedy', 'Obama']\n",
      "name='World Landmarks' group=['Eiffel Tower', 'Great Wall', 'Taj Mahal', 'Machu Picchu']\n",
      "name='Programming Languages' group=['Python', 'Ruby', 'Java', 'C++']\n",
      "name='Mathematical Constants' group=['Pi', \"Euler's Number\", 'Golden Ratio', 'Sqrt(2)']\n",
      "\n",
      "Connections game: 3\n",
      "name='Types of Dogs' group=['Labrador Retriever', 'Poodle', 'Bulldog', 'Chihuahua']\n",
      "name='Planets in the Solar System' group=['Mars', 'Neptune', 'Saturn', 'Mercury']\n",
      "name='Programming Languages' group=['Python', 'Ruby', 'Java', 'C++']\n",
      "name='Chemical Elements' group=['Oxygen', 'Mercury', 'Platinum', 'Beryllium']\n",
      "\n",
      "Connections game: 4\n",
      "name='Spices' group=['cinnamon', 'paprika', 'turmeric', 'cumin']\n",
      "name='Astronomy' group=['nebula', 'quasar', 'comet', 'supernova']\n",
      "name='Architectural Styles' group=['baroque', 'gothic', 'neoclassical', 'brutalist']\n",
      "name='Rare Gemstones' group=['alexandrite', 'grandidierite', 'jadeite', 'musgravite']\n",
      "\n",
      "Connections game: 5\n",
      "name='Ballet Positions' group=['plié', 'tendu', 'demi-pointe', 'arabesque']\n",
      "name='Coffee Varieties' group=['macchiato', 'americano', 'cappuccino', 'espresso']\n",
      "name='Ancient Civilizations' group=['Inca', 'Maya', 'Aztec', 'Sumerian']\n",
      "name='Rare Gemstones' group=['alexandrite', 'taaffeite', 'benitoite', 'grandidierite']\n",
      "\n"
     ]
    }
   ],
   "source": [
    "n_games = 5\n",
    "for i in range(n_games):\n",
    "    print(f\"Connections game: {i+1}\")\n",
    "    connection_game: ConnectionGame = client.chat.completions.create(\n",
    "        model=\"gpt-3.5-turbo-0613\",\n",
    "        response_model=ConnectionGame,\n",
    "        messages=messages\n",
    "    )\n",
    "\n",
    "    print(connection_game.easy)\n",
    "    print(connection_game.medium)\n",
    "    print(connection_game.hard)\n",
    "    print(connection_game.very_hard)\n",
    "    print()\n"
   ]
  },
  {
   "cell_type": "code",
   "execution_count": null,
   "metadata": {},
   "outputs": [],
   "source": []
  }
 ],
 "metadata": {
  "kernelspec": {
   "display_name": "Python 3",
   "language": "python",
   "name": "python3"
  },
  "language_info": {
   "codemirror_mode": {
    "name": "ipython",
    "version": 3
   },
   "file_extension": ".py",
   "mimetype": "text/x-python",
   "name": "python",
   "nbconvert_exporter": "python",
   "pygments_lexer": "ipython3",
   "version": "3.9.6"
  }
 },
 "nbformat": 4,
 "nbformat_minor": 2
}
